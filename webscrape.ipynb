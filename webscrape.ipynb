{
 "cells": [
  {
   "cell_type": "markdown",
   "metadata": {},
   "source": [
    "# Use requests library to download webpages"
   ]
  },
  {
   "cell_type": "code",
   "execution_count": 25,
   "metadata": {},
   "outputs": [],
   "source": [
    "#!pip install requests --upgrade --quiet"
   ]
  },
  {
   "cell_type": "code",
   "execution_count": 26,
   "metadata": {},
   "outputs": [],
   "source": [
    "import requests"
   ]
  },
  {
   "cell_type": "code",
   "execution_count": 27,
   "metadata": {},
   "outputs": [],
   "source": [
    "topics_url = 'https://myanimelist.net/topanime.php'"
   ]
  },
  {
   "cell_type": "code",
   "execution_count": 28,
   "metadata": {},
   "outputs": [],
   "source": [
    "response = requests.get(topics_url)"
   ]
  },
  {
   "cell_type": "code",
   "execution_count": 29,
   "metadata": {},
   "outputs": [
    {
     "data": {
      "text/plain": [
       "200"
      ]
     },
     "execution_count": 29,
     "metadata": {},
     "output_type": "execute_result"
    }
   ],
   "source": [
    "response.status_code\n",
    "#200 means that the response was successful"
   ]
  },
  {
   "cell_type": "code",
   "execution_count": 30,
   "metadata": {},
   "outputs": [
    {
     "data": {
      "text/plain": [
       "158057"
      ]
     },
     "execution_count": 30,
     "metadata": {},
     "output_type": "execute_result"
    }
   ],
   "source": [
    "len(response.text)"
   ]
  },
  {
   "cell_type": "code",
   "execution_count": 31,
   "metadata": {},
   "outputs": [],
   "source": [
    "page_contents = response.text"
   ]
  },
  {
   "cell_type": "code",
   "execution_count": 32,
   "metadata": {},
   "outputs": [
    {
     "data": {
      "text/plain": [
       "'\\n<!DOCTYPE html PUBLIC \"-//W3C//DTD XHTML 1.0 Transitional//EN\"\\n    \"http://www.w3.org/TR/xhtml1/DTD/xhtml1-transitional.dtd\">\\n\\n<html lang=\"en\">\\n<head>\\n    \\n<link rel=\"preconnect\" href=\"//fonts.gstatic.com/\" crossorigin=\"anonymous\" />\\n<link rel=\"preconnect\" href=\"//fonts.googleapis.com/\" crossorigin=\"anonymous\" />\\n<link rel=\"preconnect\" href=\"//tags-cdn.deployads.com/\" crossorigin=\"anonymous\" />\\n<link rel=\"preconnect\" href=\"//www.googletagservices.com/\" crossorigin=\"anonymous\" />\\n<link rel=\"preconnect\" href=\"//www.googletagmanager.com/\" crossorigin=\"anonymous\"/>\\n<link rel=\"preconnect\" href=\"//apis.google.com/\" crossorigin=\"anonymous\"/>\\n<link rel=\"preconnect\" href=\"//pixel-sync.sitescout.com/\" crossorigin=\"anonymous\"/>\\n<link rel=\"preconnect\" href=\"//pixel.tapad.com/\" crossorigin=\"anonymous\"/>\\n<link rel=\"preconnect\" href=\"//c.deployads.com/\" crossorigin=\"anonymous\"/>\\n<link rel=\"preconnect\" href=\"//tpc.googlesyndication.com/\" crossorigin=\"anonymous\"/>\\n<link rel=\"preconnect\" href=\"//google'"
      ]
     },
     "execution_count": 32,
     "metadata": {},
     "output_type": "execute_result"
    }
   ],
   "source": [
    "page_contents[:1000]"
   ]
  },
  {
   "cell_type": "code",
   "execution_count": 33,
   "metadata": {},
   "outputs": [],
   "source": [
    "with open ('webpage.html', 'w') as f:\n",
    "    f.write(page_contents)"
   ]
  },
  {
   "cell_type": "markdown",
   "metadata": {},
   "source": [
    "# Use Beautiful Soup to extract information"
   ]
  },
  {
   "cell_type": "code",
   "execution_count": 34,
   "metadata": {},
   "outputs": [],
   "source": [
    "#!pip install beautifulsoup4 --quiet"
   ]
  },
  {
   "cell_type": "code",
   "execution_count": 35,
   "metadata": {},
   "outputs": [],
   "source": [
    "from bs4 import BeautifulSoup"
   ]
  },
  {
   "cell_type": "code",
   "execution_count": 36,
   "metadata": {},
   "outputs": [],
   "source": [
    "doc = BeautifulSoup(page_contents, 'html.parser')"
   ]
  },
  {
   "cell_type": "code",
   "execution_count": 37,
   "metadata": {},
   "outputs": [],
   "source": [
    "h3_tags = doc.find_all(\"div\", {'class' : 'di-ib clearfix'})"
   ]
  },
  {
   "cell_type": "code",
   "execution_count": 38,
   "metadata": {},
   "outputs": [
    {
     "data": {
      "text/plain": [
       "50"
      ]
     },
     "execution_count": 38,
     "metadata": {},
     "output_type": "execute_result"
    }
   ],
   "source": [
    "len(h3_tags)"
   ]
  },
  {
   "cell_type": "code",
   "execution_count": 39,
   "metadata": {},
   "outputs": [
    {
     "data": {
      "text/plain": [
       "<h3 class=\"hoverinfo_trigger fl-l fs14 fw-b anime_ranking_h3\"><a href=\"https://myanimelist.net/anime/51535/Shingeki_no_Kyojin__The_Final_Season_-_Kanketsu-hen\" id=\"#area51535\" rel=\"#info51535\">Shingeki no Kyojin: The Final Season - Kanketsu-hen</a></h3>"
      ]
     },
     "execution_count": 39,
     "metadata": {},
     "output_type": "execute_result"
    }
   ],
   "source": [
    "h3_tags[0].contents[0]"
   ]
  },
  {
   "cell_type": "code",
   "execution_count": 40,
   "metadata": {},
   "outputs": [
    {
     "data": {
      "text/plain": [
       "'Shingeki no Kyojin: The Final Season - Kanketsu-hen'"
      ]
     },
     "execution_count": 40,
     "metadata": {},
     "output_type": "execute_result"
    }
   ],
   "source": [
    "h3_tags[0].contents[0].string"
   ]
  },
  {
   "cell_type": "code",
   "execution_count": 41,
   "metadata": {},
   "outputs": [
    {
     "data": {
      "text/plain": [
       "'https://myanimelist.net/anime/51535/Shingeki_no_Kyojin__The_Final_Season_-_Kanketsu-hen'"
      ]
     },
     "execution_count": 41,
     "metadata": {},
     "output_type": "execute_result"
    }
   ],
   "source": [
    "h3_tags[0].contents[0].a['href']"
   ]
  },
  {
   "cell_type": "code",
   "execution_count": 42,
   "metadata": {},
   "outputs": [],
   "source": [
    "titles = []\n",
    "for i in range(len(h3_tags)):\n",
    "    titles.append(h3_tags[i].contents[0].string)"
   ]
  },
  {
   "cell_type": "code",
   "execution_count": 43,
   "metadata": {},
   "outputs": [],
   "source": [
    "#titles"
   ]
  },
  {
   "cell_type": "code",
   "execution_count": 44,
   "metadata": {},
   "outputs": [],
   "source": [
    "links = []\n",
    "for i in range(len(h3_tags)):\n",
    "    links.append(h3_tags[i].contents[0].a['href'])"
   ]
  },
  {
   "cell_type": "code",
   "execution_count": 45,
   "metadata": {},
   "outputs": [],
   "source": [
    "#links"
   ]
  },
  {
   "cell_type": "code",
   "execution_count": 46,
   "metadata": {},
   "outputs": [],
   "source": [
    "score_tags = doc.find_all('td', {'class':'score ac fs14'})"
   ]
  },
  {
   "cell_type": "code",
   "execution_count": 47,
   "metadata": {},
   "outputs": [
    {
     "data": {
      "text/plain": [
       "'9.15'"
      ]
     },
     "execution_count": 47,
     "metadata": {},
     "output_type": "execute_result"
    }
   ],
   "source": [
    "score_tags[0].contents[0].span.string"
   ]
  },
  {
   "cell_type": "code",
   "execution_count": 48,
   "metadata": {},
   "outputs": [],
   "source": [
    "scores=[]\n",
    "for tag in score_tags:\n",
    "    scores.append(tag.contents[0].span.string)"
   ]
  },
  {
   "cell_type": "code",
   "execution_count": 49,
   "metadata": {},
   "outputs": [],
   "source": [
    "#scores"
   ]
  },
  {
   "cell_type": "markdown",
   "metadata": {},
   "source": [
    "# Create CSV Files with extracted information"
   ]
  },
  {
   "cell_type": "code",
   "execution_count": 50,
   "metadata": {},
   "outputs": [],
   "source": [
    "import pandas as pd"
   ]
  },
  {
   "cell_type": "code",
   "execution_count": 51,
   "metadata": {},
   "outputs": [],
   "source": [
    "df = pd.DataFrame()"
   ]
  },
  {
   "cell_type": "code",
   "execution_count": 52,
   "metadata": {},
   "outputs": [],
   "source": [
    "dict = {'Name':titles,\n",
    "        'Score':scores,\n",
    "        'Link':links}"
   ]
  },
  {
   "cell_type": "code",
   "execution_count": 53,
   "metadata": {},
   "outputs": [],
   "source": [
    "df = pd.DataFrame(dict)"
   ]
  },
  {
   "cell_type": "code",
   "execution_count": 54,
   "metadata": {},
   "outputs": [
    {
     "data": {
      "text/html": [
       "<div>\n",
       "<style scoped>\n",
       "    .dataframe tbody tr th:only-of-type {\n",
       "        vertical-align: middle;\n",
       "    }\n",
       "\n",
       "    .dataframe tbody tr th {\n",
       "        vertical-align: top;\n",
       "    }\n",
       "\n",
       "    .dataframe thead th {\n",
       "        text-align: right;\n",
       "    }\n",
       "</style>\n",
       "<table border=\"1\" class=\"dataframe\">\n",
       "  <thead>\n",
       "    <tr style=\"text-align: right;\">\n",
       "      <th></th>\n",
       "      <th>Name</th>\n",
       "      <th>Score</th>\n",
       "      <th>Link</th>\n",
       "    </tr>\n",
       "  </thead>\n",
       "  <tbody>\n",
       "    <tr>\n",
       "      <th>0</th>\n",
       "      <td>Shingeki no Kyojin: The Final Season - Kankets...</td>\n",
       "      <td>9.15</td>\n",
       "      <td>https://myanimelist.net/anime/51535/Shingeki_n...</td>\n",
       "    </tr>\n",
       "    <tr>\n",
       "      <th>1</th>\n",
       "      <td>Fullmetal Alchemist: Brotherhood</td>\n",
       "      <td>9.11</td>\n",
       "      <td>https://myanimelist.net/anime/5114/Fullmetal_A...</td>\n",
       "    </tr>\n",
       "    <tr>\n",
       "      <th>2</th>\n",
       "      <td>Bleach: Sennen Kessen-hen</td>\n",
       "      <td>9.09</td>\n",
       "      <td>https://myanimelist.net/anime/41467/Bleach__Se...</td>\n",
       "    </tr>\n",
       "    <tr>\n",
       "      <th>3</th>\n",
       "      <td>Steins;Gate</td>\n",
       "      <td>9.08</td>\n",
       "      <td>https://myanimelist.net/anime/9253/Steins_Gate</td>\n",
       "    </tr>\n",
       "    <tr>\n",
       "      <th>4</th>\n",
       "      <td>Gintama°</td>\n",
       "      <td>9.07</td>\n",
       "      <td>https://myanimelist.net/anime/28977/Gintama°</td>\n",
       "    </tr>\n",
       "    <tr>\n",
       "      <th>5</th>\n",
       "      <td>Kaguya-sama wa Kokurasetai: Ultra Romantic</td>\n",
       "      <td>9.06</td>\n",
       "      <td>https://myanimelist.net/anime/43608/Kaguya-sam...</td>\n",
       "    </tr>\n",
       "    <tr>\n",
       "      <th>6</th>\n",
       "      <td>Shingeki no Kyojin Season 3 Part 2</td>\n",
       "      <td>9.06</td>\n",
       "      <td>https://myanimelist.net/anime/38524/Shingeki_n...</td>\n",
       "    </tr>\n",
       "    <tr>\n",
       "      <th>7</th>\n",
       "      <td>Gintama: The Final</td>\n",
       "      <td>9.05</td>\n",
       "      <td>https://myanimelist.net/anime/39486/Gintama__T...</td>\n",
       "    </tr>\n",
       "    <tr>\n",
       "      <th>8</th>\n",
       "      <td>Gintama'</td>\n",
       "      <td>9.04</td>\n",
       "      <td>https://myanimelist.net/anime/9969/Gintama</td>\n",
       "    </tr>\n",
       "    <tr>\n",
       "      <th>9</th>\n",
       "      <td>Hunter x Hunter (2011)</td>\n",
       "      <td>9.04</td>\n",
       "      <td>https://myanimelist.net/anime/11061/Hunter_x_H...</td>\n",
       "    </tr>\n",
       "    <tr>\n",
       "      <th>10</th>\n",
       "      <td>Gintama': Enchousen</td>\n",
       "      <td>9.03</td>\n",
       "      <td>https://myanimelist.net/anime/15417/Gintama__E...</td>\n",
       "    </tr>\n",
       "    <tr>\n",
       "      <th>11</th>\n",
       "      <td>Ginga Eiyuu Densetsu</td>\n",
       "      <td>9.02</td>\n",
       "      <td>https://myanimelist.net/anime/820/Ginga_Eiyuu_...</td>\n",
       "    </tr>\n",
       "    <tr>\n",
       "      <th>12</th>\n",
       "      <td>Fruits Basket: The Final</td>\n",
       "      <td>9.01</td>\n",
       "      <td>https://myanimelist.net/anime/42938/Fruits_Bas...</td>\n",
       "    </tr>\n",
       "    <tr>\n",
       "      <th>13</th>\n",
       "      <td>Gintama.</td>\n",
       "      <td>8.99</td>\n",
       "      <td>https://myanimelist.net/anime/34096/Gintama</td>\n",
       "    </tr>\n",
       "    <tr>\n",
       "      <th>14</th>\n",
       "      <td>3-gatsu no Lion 2nd Season</td>\n",
       "      <td>8.94</td>\n",
       "      <td>https://myanimelist.net/anime/35180/3-gatsu_no...</td>\n",
       "    </tr>\n",
       "    <tr>\n",
       "      <th>15</th>\n",
       "      <td>Clannad: After Story</td>\n",
       "      <td>8.94</td>\n",
       "      <td>https://myanimelist.net/anime/4181/Clannad__Af...</td>\n",
       "    </tr>\n",
       "    <tr>\n",
       "      <th>16</th>\n",
       "      <td>Gintama</td>\n",
       "      <td>8.94</td>\n",
       "      <td>https://myanimelist.net/anime/918/Gintama</td>\n",
       "    </tr>\n",
       "    <tr>\n",
       "      <th>17</th>\n",
       "      <td>Kaguya-sama wa Kokurasetai: First Kiss wa Owar...</td>\n",
       "      <td>8.94</td>\n",
       "      <td>https://myanimelist.net/anime/52198/Kaguya-sam...</td>\n",
       "    </tr>\n",
       "    <tr>\n",
       "      <th>18</th>\n",
       "      <td>Koe no Katachi</td>\n",
       "      <td>8.94</td>\n",
       "      <td>https://myanimelist.net/anime/28851/Koe_no_Kat...</td>\n",
       "    </tr>\n",
       "    <tr>\n",
       "      <th>19</th>\n",
       "      <td>Gintama Movie 2: Kanketsu-hen - Yorozuya yo Ei...</td>\n",
       "      <td>8.92</td>\n",
       "      <td>https://myanimelist.net/anime/15335/Gintama_Mo...</td>\n",
       "    </tr>\n",
       "    <tr>\n",
       "      <th>20</th>\n",
       "      <td>Code Geass: Hangyaku no Lelouch R2</td>\n",
       "      <td>8.91</td>\n",
       "      <td>https://myanimelist.net/anime/2904/Code_Geass_...</td>\n",
       "    </tr>\n",
       "    <tr>\n",
       "      <th>21</th>\n",
       "      <td>Violet Evergarden Movie</td>\n",
       "      <td>8.91</td>\n",
       "      <td>https://myanimelist.net/anime/37987/Violet_Eve...</td>\n",
       "    </tr>\n",
       "    <tr>\n",
       "      <th>22</th>\n",
       "      <td>Bocchi the Rock!</td>\n",
       "      <td>8.90</td>\n",
       "      <td>https://myanimelist.net/anime/47917/Bocchi_the...</td>\n",
       "    </tr>\n",
       "    <tr>\n",
       "      <th>23</th>\n",
       "      <td>Owarimonogatari 2nd Season</td>\n",
       "      <td>8.89</td>\n",
       "      <td>https://myanimelist.net/anime/35247/Owarimonog...</td>\n",
       "    </tr>\n",
       "    <tr>\n",
       "      <th>24</th>\n",
       "      <td>Gintama.: Shirogane no Tamashii-hen - Kouhan-sen</td>\n",
       "      <td>8.88</td>\n",
       "      <td>https://myanimelist.net/anime/37491/Gintama__S...</td>\n",
       "    </tr>\n",
       "    <tr>\n",
       "      <th>25</th>\n",
       "      <td>Monster</td>\n",
       "      <td>8.86</td>\n",
       "      <td>https://myanimelist.net/anime/19/Monster</td>\n",
       "    </tr>\n",
       "    <tr>\n",
       "      <th>26</th>\n",
       "      <td>Kimi no Na wa.</td>\n",
       "      <td>8.85</td>\n",
       "      <td>https://myanimelist.net/anime/32281/Kimi_no_Na_wa</td>\n",
       "    </tr>\n",
       "    <tr>\n",
       "      <th>27</th>\n",
       "      <td>Gintama.: Shirogane no Tamashii-hen</td>\n",
       "      <td>8.81</td>\n",
       "      <td>https://myanimelist.net/anime/36838/Gintama__S...</td>\n",
       "    </tr>\n",
       "    <tr>\n",
       "      <th>28</th>\n",
       "      <td>Kimetsu no Yaiba: Yuukaku-hen</td>\n",
       "      <td>8.81</td>\n",
       "      <td>https://myanimelist.net/anime/47778/Kimetsu_no...</td>\n",
       "    </tr>\n",
       "    <tr>\n",
       "      <th>29</th>\n",
       "      <td>Kingdom 3rd Season</td>\n",
       "      <td>8.81</td>\n",
       "      <td>https://myanimelist.net/anime/40682/Kingdom_3r...</td>\n",
       "    </tr>\n",
       "    <tr>\n",
       "      <th>30</th>\n",
       "      <td>Mob Psycho 100 II</td>\n",
       "      <td>8.80</td>\n",
       "      <td>https://myanimelist.net/anime/37510/Mob_Psycho...</td>\n",
       "    </tr>\n",
       "    <tr>\n",
       "      <th>31</th>\n",
       "      <td>Shingeki no Kyojin: The Final Season</td>\n",
       "      <td>8.80</td>\n",
       "      <td>https://myanimelist.net/anime/40028/Shingeki_n...</td>\n",
       "    </tr>\n",
       "    <tr>\n",
       "      <th>32</th>\n",
       "      <td>Kizumonogatari III: Reiketsu-hen</td>\n",
       "      <td>8.79</td>\n",
       "      <td>https://myanimelist.net/anime/31758/Kizumonoga...</td>\n",
       "    </tr>\n",
       "    <tr>\n",
       "      <th>33</th>\n",
       "      <td>Sen to Chihiro no Kamikakushi</td>\n",
       "      <td>8.78</td>\n",
       "      <td>https://myanimelist.net/anime/199/Sen_to_Chihi...</td>\n",
       "    </tr>\n",
       "    <tr>\n",
       "      <th>34</th>\n",
       "      <td>Haikyuu!! Karasuno Koukou vs. Shiratorizawa Ga...</td>\n",
       "      <td>8.78</td>\n",
       "      <td>https://myanimelist.net/anime/32935/Haikyuu_Ka...</td>\n",
       "    </tr>\n",
       "    <tr>\n",
       "      <th>35</th>\n",
       "      <td>Monogatari Series: Second Season</td>\n",
       "      <td>8.77</td>\n",
       "      <td>https://myanimelist.net/anime/17074/Monogatari...</td>\n",
       "    </tr>\n",
       "    <tr>\n",
       "      <th>36</th>\n",
       "      <td>Shingeki no Kyojin: The Final Season Part 2</td>\n",
       "      <td>8.77</td>\n",
       "      <td>https://myanimelist.net/anime/48583/Shingeki_n...</td>\n",
       "    </tr>\n",
       "    <tr>\n",
       "      <th>37</th>\n",
       "      <td>Hajime no Ippo</td>\n",
       "      <td>8.76</td>\n",
       "      <td>https://myanimelist.net/anime/263/Hajime_no_Ippo</td>\n",
       "    </tr>\n",
       "    <tr>\n",
       "      <th>38</th>\n",
       "      <td>Cowboy Bebop</td>\n",
       "      <td>8.75</td>\n",
       "      <td>https://myanimelist.net/anime/1/Cowboy_Bebop</td>\n",
       "    </tr>\n",
       "    <tr>\n",
       "      <th>39</th>\n",
       "      <td>Kingdom 4th Season</td>\n",
       "      <td>8.75</td>\n",
       "      <td>https://myanimelist.net/anime/50160/Kingdom_4t...</td>\n",
       "    </tr>\n",
       "    <tr>\n",
       "      <th>40</th>\n",
       "      <td>Shiguang Dailiren</td>\n",
       "      <td>8.75</td>\n",
       "      <td>https://myanimelist.net/anime/44074/Shiguang_D...</td>\n",
       "    </tr>\n",
       "    <tr>\n",
       "      <th>41</th>\n",
       "      <td>Mob Psycho 100 III</td>\n",
       "      <td>8.74</td>\n",
       "      <td>https://myanimelist.net/anime/50172/Mob_Psycho...</td>\n",
       "    </tr>\n",
       "    <tr>\n",
       "      <th>42</th>\n",
       "      <td>Mushishi Zoku Shou 2nd Season</td>\n",
       "      <td>8.73</td>\n",
       "      <td>https://myanimelist.net/anime/24701/Mushishi_Z...</td>\n",
       "    </tr>\n",
       "    <tr>\n",
       "      <th>43</th>\n",
       "      <td>Shouwa Genroku Rakugo Shinjuu: Sukeroku Futata...</td>\n",
       "      <td>8.73</td>\n",
       "      <td>https://myanimelist.net/anime/33095/Shouwa_Gen...</td>\n",
       "    </tr>\n",
       "    <tr>\n",
       "      <th>44</th>\n",
       "      <td>Vinland Saga</td>\n",
       "      <td>8.73</td>\n",
       "      <td>https://myanimelist.net/anime/37521/Vinland_Saga</td>\n",
       "    </tr>\n",
       "    <tr>\n",
       "      <th>45</th>\n",
       "      <td>86 Part 2</td>\n",
       "      <td>8.71</td>\n",
       "      <td>https://myanimelist.net/anime/48569/86_Part_2</td>\n",
       "    </tr>\n",
       "    <tr>\n",
       "      <th>46</th>\n",
       "      <td>Ashita no Joe 2</td>\n",
       "      <td>8.71</td>\n",
       "      <td>https://myanimelist.net/anime/2921/Ashita_no_J...</td>\n",
       "    </tr>\n",
       "    <tr>\n",
       "      <th>47</th>\n",
       "      <td>Mushoku Tensei: Isekai Ittara Honki Dasu Part 2</td>\n",
       "      <td>8.71</td>\n",
       "      <td>https://myanimelist.net/anime/45576/Mushoku_Te...</td>\n",
       "    </tr>\n",
       "    <tr>\n",
       "      <th>48</th>\n",
       "      <td>Rurouni Kenshin: Meiji Kenkaku Romantan - Tsui...</td>\n",
       "      <td>8.71</td>\n",
       "      <td>https://myanimelist.net/anime/44/Rurouni_Kensh...</td>\n",
       "    </tr>\n",
       "    <tr>\n",
       "      <th>49</th>\n",
       "      <td>Mushishi Zoku Shou</td>\n",
       "      <td>8.70</td>\n",
       "      <td>https://myanimelist.net/anime/21939/Mushishi_Z...</td>\n",
       "    </tr>\n",
       "  </tbody>\n",
       "</table>\n",
       "</div>"
      ],
      "text/plain": [
       "                                                 Name Score  \\\n",
       "0   Shingeki no Kyojin: The Final Season - Kankets...  9.15   \n",
       "1                    Fullmetal Alchemist: Brotherhood  9.11   \n",
       "2                           Bleach: Sennen Kessen-hen  9.09   \n",
       "3                                         Steins;Gate  9.08   \n",
       "4                                            Gintama°  9.07   \n",
       "5          Kaguya-sama wa Kokurasetai: Ultra Romantic  9.06   \n",
       "6                  Shingeki no Kyojin Season 3 Part 2  9.06   \n",
       "7                                  Gintama: The Final  9.05   \n",
       "8                                            Gintama'  9.04   \n",
       "9                              Hunter x Hunter (2011)  9.04   \n",
       "10                                Gintama': Enchousen  9.03   \n",
       "11                               Ginga Eiyuu Densetsu  9.02   \n",
       "12                           Fruits Basket: The Final  9.01   \n",
       "13                                           Gintama.  8.99   \n",
       "14                         3-gatsu no Lion 2nd Season  8.94   \n",
       "15                               Clannad: After Story  8.94   \n",
       "16                                            Gintama  8.94   \n",
       "17  Kaguya-sama wa Kokurasetai: First Kiss wa Owar...  8.94   \n",
       "18                                     Koe no Katachi  8.94   \n",
       "19  Gintama Movie 2: Kanketsu-hen - Yorozuya yo Ei...  8.92   \n",
       "20                 Code Geass: Hangyaku no Lelouch R2  8.91   \n",
       "21                            Violet Evergarden Movie  8.91   \n",
       "22                                   Bocchi the Rock!  8.90   \n",
       "23                         Owarimonogatari 2nd Season  8.89   \n",
       "24   Gintama.: Shirogane no Tamashii-hen - Kouhan-sen  8.88   \n",
       "25                                            Monster  8.86   \n",
       "26                                     Kimi no Na wa.  8.85   \n",
       "27                Gintama.: Shirogane no Tamashii-hen  8.81   \n",
       "28                      Kimetsu no Yaiba: Yuukaku-hen  8.81   \n",
       "29                                 Kingdom 3rd Season  8.81   \n",
       "30                                  Mob Psycho 100 II  8.80   \n",
       "31               Shingeki no Kyojin: The Final Season  8.80   \n",
       "32                   Kizumonogatari III: Reiketsu-hen  8.79   \n",
       "33                      Sen to Chihiro no Kamikakushi  8.78   \n",
       "34  Haikyuu!! Karasuno Koukou vs. Shiratorizawa Ga...  8.78   \n",
       "35                   Monogatari Series: Second Season  8.77   \n",
       "36        Shingeki no Kyojin: The Final Season Part 2  8.77   \n",
       "37                                     Hajime no Ippo  8.76   \n",
       "38                                       Cowboy Bebop  8.75   \n",
       "39                                 Kingdom 4th Season  8.75   \n",
       "40                                  Shiguang Dailiren  8.75   \n",
       "41                                 Mob Psycho 100 III  8.74   \n",
       "42                      Mushishi Zoku Shou 2nd Season  8.73   \n",
       "43  Shouwa Genroku Rakugo Shinjuu: Sukeroku Futata...  8.73   \n",
       "44                                       Vinland Saga  8.73   \n",
       "45                                          86 Part 2  8.71   \n",
       "46                                    Ashita no Joe 2  8.71   \n",
       "47    Mushoku Tensei: Isekai Ittara Honki Dasu Part 2  8.71   \n",
       "48  Rurouni Kenshin: Meiji Kenkaku Romantan - Tsui...  8.71   \n",
       "49                                 Mushishi Zoku Shou  8.70   \n",
       "\n",
       "                                                 Link  \n",
       "0   https://myanimelist.net/anime/51535/Shingeki_n...  \n",
       "1   https://myanimelist.net/anime/5114/Fullmetal_A...  \n",
       "2   https://myanimelist.net/anime/41467/Bleach__Se...  \n",
       "3      https://myanimelist.net/anime/9253/Steins_Gate  \n",
       "4        https://myanimelist.net/anime/28977/Gintama°  \n",
       "5   https://myanimelist.net/anime/43608/Kaguya-sam...  \n",
       "6   https://myanimelist.net/anime/38524/Shingeki_n...  \n",
       "7   https://myanimelist.net/anime/39486/Gintama__T...  \n",
       "8          https://myanimelist.net/anime/9969/Gintama  \n",
       "9   https://myanimelist.net/anime/11061/Hunter_x_H...  \n",
       "10  https://myanimelist.net/anime/15417/Gintama__E...  \n",
       "11  https://myanimelist.net/anime/820/Ginga_Eiyuu_...  \n",
       "12  https://myanimelist.net/anime/42938/Fruits_Bas...  \n",
       "13        https://myanimelist.net/anime/34096/Gintama  \n",
       "14  https://myanimelist.net/anime/35180/3-gatsu_no...  \n",
       "15  https://myanimelist.net/anime/4181/Clannad__Af...  \n",
       "16          https://myanimelist.net/anime/918/Gintama  \n",
       "17  https://myanimelist.net/anime/52198/Kaguya-sam...  \n",
       "18  https://myanimelist.net/anime/28851/Koe_no_Kat...  \n",
       "19  https://myanimelist.net/anime/15335/Gintama_Mo...  \n",
       "20  https://myanimelist.net/anime/2904/Code_Geass_...  \n",
       "21  https://myanimelist.net/anime/37987/Violet_Eve...  \n",
       "22  https://myanimelist.net/anime/47917/Bocchi_the...  \n",
       "23  https://myanimelist.net/anime/35247/Owarimonog...  \n",
       "24  https://myanimelist.net/anime/37491/Gintama__S...  \n",
       "25           https://myanimelist.net/anime/19/Monster  \n",
       "26  https://myanimelist.net/anime/32281/Kimi_no_Na_wa  \n",
       "27  https://myanimelist.net/anime/36838/Gintama__S...  \n",
       "28  https://myanimelist.net/anime/47778/Kimetsu_no...  \n",
       "29  https://myanimelist.net/anime/40682/Kingdom_3r...  \n",
       "30  https://myanimelist.net/anime/37510/Mob_Psycho...  \n",
       "31  https://myanimelist.net/anime/40028/Shingeki_n...  \n",
       "32  https://myanimelist.net/anime/31758/Kizumonoga...  \n",
       "33  https://myanimelist.net/anime/199/Sen_to_Chihi...  \n",
       "34  https://myanimelist.net/anime/32935/Haikyuu_Ka...  \n",
       "35  https://myanimelist.net/anime/17074/Monogatari...  \n",
       "36  https://myanimelist.net/anime/48583/Shingeki_n...  \n",
       "37   https://myanimelist.net/anime/263/Hajime_no_Ippo  \n",
       "38       https://myanimelist.net/anime/1/Cowboy_Bebop  \n",
       "39  https://myanimelist.net/anime/50160/Kingdom_4t...  \n",
       "40  https://myanimelist.net/anime/44074/Shiguang_D...  \n",
       "41  https://myanimelist.net/anime/50172/Mob_Psycho...  \n",
       "42  https://myanimelist.net/anime/24701/Mushishi_Z...  \n",
       "43  https://myanimelist.net/anime/33095/Shouwa_Gen...  \n",
       "44   https://myanimelist.net/anime/37521/Vinland_Saga  \n",
       "45      https://myanimelist.net/anime/48569/86_Part_2  \n",
       "46  https://myanimelist.net/anime/2921/Ashita_no_J...  \n",
       "47  https://myanimelist.net/anime/45576/Mushoku_Te...  \n",
       "48  https://myanimelist.net/anime/44/Rurouni_Kensh...  \n",
       "49  https://myanimelist.net/anime/21939/Mushishi_Z...  "
      ]
     },
     "execution_count": 54,
     "metadata": {},
     "output_type": "execute_result"
    }
   ],
   "source": [
    "df"
   ]
  },
  {
   "cell_type": "code",
   "execution_count": 55,
   "metadata": {},
   "outputs": [],
   "source": [
    "df.to_csv('mal.csv',index_label='Rank')"
   ]
  },
  {
   "cell_type": "markdown",
   "metadata": {},
   "source": [
    "## Getting Themes/Genres out of a Anime page"
   ]
  },
  {
   "cell_type": "code",
   "execution_count": 56,
   "metadata": {},
   "outputs": [],
   "source": [
    "response = requests.get(links[0])"
   ]
  },
  {
   "cell_type": "code",
   "execution_count": 57,
   "metadata": {},
   "outputs": [
    {
     "data": {
      "text/plain": [
       "200"
      ]
     },
     "execution_count": 57,
     "metadata": {},
     "output_type": "execute_result"
    }
   ],
   "source": [
    "response.status_code"
   ]
  },
  {
   "cell_type": "code",
   "execution_count": 58,
   "metadata": {},
   "outputs": [],
   "source": [
    "an_page = response.text"
   ]
  },
  {
   "cell_type": "code",
   "execution_count": 59,
   "metadata": {},
   "outputs": [],
   "source": [
    "doc = BeautifulSoup(an_page, 'html.parser')"
   ]
  },
  {
   "cell_type": "code",
   "execution_count": 60,
   "metadata": {},
   "outputs": [],
   "source": [
    "genreTags = doc.find_all('span', {'itemprop':'genre'})"
   ]
  },
  {
   "cell_type": "code",
   "execution_count": 61,
   "metadata": {},
   "outputs": [
    {
     "data": {
      "text/plain": [
       "'Action'"
      ]
     },
     "execution_count": 61,
     "metadata": {},
     "output_type": "execute_result"
    }
   ],
   "source": [
    "genreTags[0].text"
   ]
  },
  {
   "cell_type": "code",
   "execution_count": 62,
   "metadata": {},
   "outputs": [
    {
     "data": {
      "text/plain": [
       "['Action', 'Drama', 'Suspense', 'Gore', 'Military', 'Survival', 'Shounen']"
      ]
     },
     "execution_count": 62,
     "metadata": {},
     "output_type": "execute_result"
    }
   ],
   "source": [
    "tempGenres = []\n",
    "for genre in genreTags:\n",
    "    tempGenres.append(genre.text)\n",
    "tempGenres"
   ]
  },
  {
   "cell_type": "code",
   "execution_count": 63,
   "metadata": {},
   "outputs": [],
   "source": [
    "genres = []\n",
    "for url in links:\n",
    "    response = requests.get(url)\n",
    "    an_page = response.text\n",
    "    doc = BeautifulSoup(an_page, 'html.parser')\n",
    "    genreTags = doc.find_all('span', {'itemprop':'genre'})\n",
    "    tempGenres = []\n",
    "    for genre in genreTags:\n",
    "        tempGenres.append(genre.text)\n",
    "    genres.append(tempGenres)\n"
   ]
  },
  {
   "cell_type": "code",
   "execution_count": 64,
   "metadata": {},
   "outputs": [],
   "source": [
    "#genres"
   ]
  },
  {
   "cell_type": "markdown",
   "metadata": {},
   "source": [
    "## Getting the Synopsis"
   ]
  },
  {
   "cell_type": "code",
   "execution_count": 65,
   "metadata": {},
   "outputs": [],
   "source": [
    "response = requests.get(links[0])\n",
    "an_page = response.text\n",
    "doc = BeautifulSoup(an_page, 'html.parser')\n",
    "synopsis = doc.find_all('p', {'itemprop':'description'})"
   ]
  },
  {
   "cell_type": "code",
   "execution_count": 66,
   "metadata": {},
   "outputs": [
    {
     "data": {
      "text/plain": [
       "'The conclusion to Shingeki no Kyojin.'"
      ]
     },
     "execution_count": 66,
     "metadata": {},
     "output_type": "execute_result"
    }
   ],
   "source": [
    "synopsis[0].text"
   ]
  },
  {
   "cell_type": "code",
   "execution_count": 67,
   "metadata": {},
   "outputs": [],
   "source": [
    "synopsis = []\n",
    "for url in links:\n",
    "    response = requests.get(url)\n",
    "    an_page = response.text\n",
    "    doc = BeautifulSoup(an_page, 'html.parser')\n",
    "    tempSyn = doc.find_all('p', {'itemprop':'description'})\n",
    "    synopsis.append(tempSyn[0].text)"
   ]
  },
  {
   "cell_type": "code",
   "execution_count": 68,
   "metadata": {},
   "outputs": [
    {
     "data": {
      "text/plain": [
       "50"
      ]
     },
     "execution_count": 68,
     "metadata": {},
     "output_type": "execute_result"
    }
   ],
   "source": [
    "len(synopsis)"
   ]
  },
  {
   "cell_type": "markdown",
   "metadata": {},
   "source": [
    "# Create Function to Scrape top 1000 Anime"
   ]
  },
  {
   "cell_type": "code",
   "execution_count": 69,
   "metadata": {},
   "outputs": [],
   "source": [
    "#https://myanimelist.net/topanime.php?limit=0\n"
   ]
  },
  {
   "cell_type": "code",
   "execution_count": 84,
   "metadata": {},
   "outputs": [],
   "source": [
    "def getAnimeTitleLink():\n",
    "    limit = 0\n",
    "    titles = []\n",
    "    links = []\n",
    "    tags = []\n",
    "    while limit < 100:\n",
    "        topUrl = f\"https://myanimelist.net/topanime.php?limit={limit}\"\n",
    "        response = requests.get(topUrl)\n",
    "        page = response.text\n",
    "        doc = BeautifulSoup(page, 'html.parser')\n",
    "        topTags = doc.find_all(\"div\", {'class' : 'di-ib clearfix'})\n",
    "        tags += topTags\n",
    "        limit = limit+50\n",
    "    for div in tags:\n",
    "        titles.append(div.contents[0].string)\n",
    "        links.append(div.contents[0].a['href'])\n",
    "    return titles, links\n",
    "           "
   ]
  },
  {
   "cell_type": "code",
   "execution_count": 85,
   "metadata": {},
   "outputs": [],
   "source": [
    "titles, links = getAnimeTitleLink()"
   ]
  },
  {
   "cell_type": "code",
   "execution_count": 103,
   "metadata": {},
   "outputs": [],
   "source": [
    "def getScores():\n",
    "    limit = 0\n",
    "    scores = []\n",
    "    tags = []\n",
    "    while limit < 100:\n",
    "        topUrl = f\"https://myanimelist.net/topanime.php?limit={limit}\"\n",
    "        response = requests.get(topUrl)\n",
    "        page = response.text\n",
    "        doc = BeautifulSoup(page, 'html.parser')\n",
    "        score_tags = doc.find_all('td', {'class':'score ac fs14'})\n",
    "        tags += score_tags\n",
    "        limit = limit+50\n",
    "    for div in tags:\n",
    "        scores.append(div.contents[0].span.string)\n",
    "    return scores\n"
   ]
  },
  {
   "cell_type": "code",
   "execution_count": 105,
   "metadata": {},
   "outputs": [],
   "source": [
    "scores = getScores()"
   ]
  },
  {
   "cell_type": "code",
   "execution_count": 114,
   "metadata": {},
   "outputs": [],
   "source": [
    "def getGenres(links):\n",
    "    genres = []\n",
    "    for url in links:\n",
    "        hdr = {'User-Agent': 'Mozilla/5.0'}\n",
    "        response = requests.get(url, hdr)\n",
    "        an_page = response.text\n",
    "        doc = BeautifulSoup(an_page, 'html.parser')\n",
    "        genreTags = doc.find_all('span', {'itemprop':'genre'})\n",
    "        tempGenres = []\n",
    "        for genre in genreTags:\n",
    "            tempGenres.append(genre.text)\n",
    "        genres.append(tempGenres)\n",
    "    return genres"
   ]
  },
  {
   "cell_type": "code",
   "execution_count": 119,
   "metadata": {},
   "outputs": [],
   "source": [
    "genres = getGenres(links)"
   ]
  },
  {
   "cell_type": "code",
   "execution_count": 90,
   "metadata": {},
   "outputs": [],
   "source": [
    "def getSynopsis(links):\n",
    "    synopsis = []\n",
    "    for url in links:\n",
    "        response = requests.get(url)\n",
    "        an_page = response.text\n",
    "        doc = BeautifulSoup(an_page, 'html.parser')\n",
    "        tempSyn = doc.find_all('p', {'itemprop':'description'})\n",
    "        synopsis.append(tempSyn[0].text)\n",
    "    return synopsis"
   ]
  },
  {
   "cell_type": "code",
   "execution_count": 95,
   "metadata": {},
   "outputs": [],
   "source": [
    "synopsis = getSynopsis(links)"
   ]
  },
  {
   "cell_type": "code",
   "execution_count": 121,
   "metadata": {},
   "outputs": [
    {
     "data": {
      "text/plain": [
       "['The conclusion to Shingeki no Kyojin.',\n",
       " 'After a horrific alchemy experiment goes wrong in the Elric household, brothers Edward and Alphonse are left in a catastrophic new reality. Ignoring the alchemical principle banning human transmutation, the boys attempted to bring their recently deceased mother back to life. Instead, they suffered brutal personal loss: Alphonse\\'s body disintegrated while Edward lost a leg and then sacrificed an arm to keep Alphonse\\'s soul in the physical realm by binding it to a hulking suit of armor.\\n\\r\\nThe brothers are rescued by their neighbor Pinako Rockbell and her granddaughter Winry. Known as a bio-mechanical engineering prodigy, Winry creates prosthetic limbs for Edward by utilizing \"automail,\" a tough, versatile metal used in robots and combat armor. After years of training, the Elric brothers set off on a quest to restore their bodies by locating the Philosopher\\'s Stone—a powerful gem that allows an alchemist to defy the traditional laws of Equivalent Exchange.\\n\\r\\nAs Edward becomes an infamous alchemist and gains the nickname \"Fullmetal,\" the boys\\' journey embroils them in a growing conspiracy that threatens the fate of the world.\\n\\r\\n[Written by MAL Rewrite]']"
      ]
     },
     "execution_count": 121,
     "metadata": {},
     "output_type": "execute_result"
    }
   ],
   "source": [
    "synopsis[:2]"
   ]
  },
  {
   "cell_type": "code",
   "execution_count": 108,
   "metadata": {},
   "outputs": [],
   "source": [
    "dict = {'Name':titles,\n",
    "        'Score':scores,\n",
    "        'Genres':genres,\n",
    "        'Synopsis':synopsis,\n",
    "        'Link':links\n",
    "        }"
   ]
  },
  {
   "cell_type": "code",
   "execution_count": 111,
   "metadata": {},
   "outputs": [],
   "source": [
    "df = pd.DataFrame(dict)"
   ]
  },
  {
   "cell_type": "code",
   "execution_count": 138,
   "metadata": {},
   "outputs": [],
   "source": [
    "import numpy as np\n",
    "df.index = np.arange(1, len(df) + 1)\n",
    "#Make index start at one, that way it corresponds with the ranking on the website"
   ]
  },
  {
   "cell_type": "code",
   "execution_count": 140,
   "metadata": {},
   "outputs": [],
   "source": [
    "import csv\n",
    "df.to_csv('mal.csv',index_label='Rank')"
   ]
  },
  {
   "cell_type": "code",
   "execution_count": null,
   "metadata": {},
   "outputs": [],
   "source": []
  }
 ],
 "metadata": {
  "kernelspec": {
   "display_name": "Python 3.11.1 64-bit",
   "language": "python",
   "name": "python3"
  },
  "language_info": {
   "codemirror_mode": {
    "name": "ipython",
    "version": 3
   },
   "file_extension": ".py",
   "mimetype": "text/x-python",
   "name": "python",
   "nbconvert_exporter": "python",
   "pygments_lexer": "ipython3",
   "version": "3.11.1"
  },
  "orig_nbformat": 4,
  "vscode": {
   "interpreter": {
    "hash": "aee8b7b246df8f9039afb4144a1f6fd8d2ca17a180786b69acc140d282b71a49"
   }
  }
 },
 "nbformat": 4,
 "nbformat_minor": 2
}
