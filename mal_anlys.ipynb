{
 "cells": [
  {
   "cell_type": "code",
   "execution_count": 28,
   "metadata": {},
   "outputs": [],
   "source": [
    "import pandas as pd\n",
    "import matplotlib.pyplot as plt\n",
    "import numpy as np"
   ]
  },
  {
   "cell_type": "code",
   "execution_count": 29,
   "metadata": {},
   "outputs": [],
   "source": [
    "df = pd.DataFrame()"
   ]
  },
  {
   "cell_type": "code",
   "execution_count": 30,
   "metadata": {},
   "outputs": [],
   "source": [
    "df=pd.read_csv('mal.csv')"
   ]
  },
  {
   "cell_type": "code",
   "execution_count": 31,
   "metadata": {},
   "outputs": [
    {
     "data": {
      "text/html": [
       "<div>\n",
       "<style scoped>\n",
       "    .dataframe tbody tr th:only-of-type {\n",
       "        vertical-align: middle;\n",
       "    }\n",
       "\n",
       "    .dataframe tbody tr th {\n",
       "        vertical-align: top;\n",
       "    }\n",
       "\n",
       "    .dataframe thead th {\n",
       "        text-align: right;\n",
       "    }\n",
       "</style>\n",
       "<table border=\"1\" class=\"dataframe\">\n",
       "  <thead>\n",
       "    <tr style=\"text-align: right;\">\n",
       "      <th></th>\n",
       "      <th>Rank</th>\n",
       "      <th>Name</th>\n",
       "      <th>Score</th>\n",
       "      <th>Genres</th>\n",
       "      <th>Synopsis</th>\n",
       "      <th>Link</th>\n",
       "    </tr>\n",
       "  </thead>\n",
       "  <tbody>\n",
       "    <tr>\n",
       "      <th>0</th>\n",
       "      <td>1</td>\n",
       "      <td>Shingeki no Kyojin: The Final Season - Kankets...</td>\n",
       "      <td>9.15</td>\n",
       "      <td>['Action', 'Drama', 'Suspense', 'Gore', 'Milit...</td>\n",
       "      <td>The conclusion to Shingeki no Kyojin.</td>\n",
       "      <td>https://myanimelist.net/anime/51535/Shingeki_n...</td>\n",
       "    </tr>\n",
       "    <tr>\n",
       "      <th>1</th>\n",
       "      <td>2</td>\n",
       "      <td>Fullmetal Alchemist: Brotherhood</td>\n",
       "      <td>9.11</td>\n",
       "      <td>['Action', 'Adventure', 'Drama', 'Fantasy', 'M...</td>\n",
       "      <td>After a horrific alchemy experiment goes wrong...</td>\n",
       "      <td>https://myanimelist.net/anime/5114/Fullmetal_A...</td>\n",
       "    </tr>\n",
       "    <tr>\n",
       "      <th>2</th>\n",
       "      <td>3</td>\n",
       "      <td>Bleach: Sennen Kessen-hen</td>\n",
       "      <td>9.09</td>\n",
       "      <td>['Action', 'Adventure', 'Fantasy', 'Shounen']</td>\n",
       "      <td>Substitute Soul Reaper Ichigo Kurosaki spends ...</td>\n",
       "      <td>https://myanimelist.net/anime/41467/Bleach__Se...</td>\n",
       "    </tr>\n",
       "    <tr>\n",
       "      <th>3</th>\n",
       "      <td>4</td>\n",
       "      <td>Steins;Gate</td>\n",
       "      <td>9.08</td>\n",
       "      <td>['Drama', 'Sci-Fi', 'Suspense', 'Psychological...</td>\n",
       "      <td>Eccentric scientist Rintarou Okabe has a never...</td>\n",
       "      <td>https://myanimelist.net/anime/9253/Steins_Gate</td>\n",
       "    </tr>\n",
       "    <tr>\n",
       "      <th>4</th>\n",
       "      <td>5</td>\n",
       "      <td>Gintama°</td>\n",
       "      <td>9.07</td>\n",
       "      <td>['Action', 'Comedy', 'Sci-Fi', 'Gag Humor', 'H...</td>\n",
       "      <td>Gintoki, Shinpachi, and Kagura return as the f...</td>\n",
       "      <td>https://myanimelist.net/anime/28977/Gintama°</td>\n",
       "    </tr>\n",
       "  </tbody>\n",
       "</table>\n",
       "</div>"
      ],
      "text/plain": [
       "   Rank                                               Name  Score  \\\n",
       "0     1  Shingeki no Kyojin: The Final Season - Kankets...   9.15   \n",
       "1     2                   Fullmetal Alchemist: Brotherhood   9.11   \n",
       "2     3                          Bleach: Sennen Kessen-hen   9.09   \n",
       "3     4                                        Steins;Gate   9.08   \n",
       "4     5                                           Gintama°   9.07   \n",
       "\n",
       "                                              Genres  \\\n",
       "0  ['Action', 'Drama', 'Suspense', 'Gore', 'Milit...   \n",
       "1  ['Action', 'Adventure', 'Drama', 'Fantasy', 'M...   \n",
       "2      ['Action', 'Adventure', 'Fantasy', 'Shounen']   \n",
       "3  ['Drama', 'Sci-Fi', 'Suspense', 'Psychological...   \n",
       "4  ['Action', 'Comedy', 'Sci-Fi', 'Gag Humor', 'H...   \n",
       "\n",
       "                                            Synopsis  \\\n",
       "0              The conclusion to Shingeki no Kyojin.   \n",
       "1  After a horrific alchemy experiment goes wrong...   \n",
       "2  Substitute Soul Reaper Ichigo Kurosaki spends ...   \n",
       "3  Eccentric scientist Rintarou Okabe has a never...   \n",
       "4  Gintoki, Shinpachi, and Kagura return as the f...   \n",
       "\n",
       "                                                Link  \n",
       "0  https://myanimelist.net/anime/51535/Shingeki_n...  \n",
       "1  https://myanimelist.net/anime/5114/Fullmetal_A...  \n",
       "2  https://myanimelist.net/anime/41467/Bleach__Se...  \n",
       "3     https://myanimelist.net/anime/9253/Steins_Gate  \n",
       "4       https://myanimelist.net/anime/28977/Gintama°  "
      ]
     },
     "execution_count": 31,
     "metadata": {},
     "output_type": "execute_result"
    }
   ],
   "source": [
    "df.head()"
   ]
  },
  {
   "cell_type": "code",
   "execution_count": 32,
   "metadata": {},
   "outputs": [],
   "source": [
    "# Rearranging index\n",
    "df.index = np.arange(1, len(df) + 1)"
   ]
  },
  {
   "cell_type": "code",
   "execution_count": 33,
   "metadata": {},
   "outputs": [
    {
     "data": {
      "text/html": [
       "<div>\n",
       "<style scoped>\n",
       "    .dataframe tbody tr th:only-of-type {\n",
       "        vertical-align: middle;\n",
       "    }\n",
       "\n",
       "    .dataframe tbody tr th {\n",
       "        vertical-align: top;\n",
       "    }\n",
       "\n",
       "    .dataframe thead th {\n",
       "        text-align: right;\n",
       "    }\n",
       "</style>\n",
       "<table border=\"1\" class=\"dataframe\">\n",
       "  <thead>\n",
       "    <tr style=\"text-align: right;\">\n",
       "      <th></th>\n",
       "      <th>Rank</th>\n",
       "      <th>Name</th>\n",
       "      <th>Score</th>\n",
       "      <th>Genres</th>\n",
       "      <th>Synopsis</th>\n",
       "      <th>Link</th>\n",
       "    </tr>\n",
       "  </thead>\n",
       "  <tbody>\n",
       "    <tr>\n",
       "      <th>1</th>\n",
       "      <td>1</td>\n",
       "      <td>Shingeki no Kyojin: The Final Season - Kankets...</td>\n",
       "      <td>9.15</td>\n",
       "      <td>['Action', 'Drama', 'Suspense', 'Gore', 'Milit...</td>\n",
       "      <td>The conclusion to Shingeki no Kyojin.</td>\n",
       "      <td>https://myanimelist.net/anime/51535/Shingeki_n...</td>\n",
       "    </tr>\n",
       "    <tr>\n",
       "      <th>2</th>\n",
       "      <td>2</td>\n",
       "      <td>Fullmetal Alchemist: Brotherhood</td>\n",
       "      <td>9.11</td>\n",
       "      <td>['Action', 'Adventure', 'Drama', 'Fantasy', 'M...</td>\n",
       "      <td>After a horrific alchemy experiment goes wrong...</td>\n",
       "      <td>https://myanimelist.net/anime/5114/Fullmetal_A...</td>\n",
       "    </tr>\n",
       "    <tr>\n",
       "      <th>3</th>\n",
       "      <td>3</td>\n",
       "      <td>Bleach: Sennen Kessen-hen</td>\n",
       "      <td>9.09</td>\n",
       "      <td>['Action', 'Adventure', 'Fantasy', 'Shounen']</td>\n",
       "      <td>Substitute Soul Reaper Ichigo Kurosaki spends ...</td>\n",
       "      <td>https://myanimelist.net/anime/41467/Bleach__Se...</td>\n",
       "    </tr>\n",
       "    <tr>\n",
       "      <th>4</th>\n",
       "      <td>4</td>\n",
       "      <td>Steins;Gate</td>\n",
       "      <td>9.08</td>\n",
       "      <td>['Drama', 'Sci-Fi', 'Suspense', 'Psychological...</td>\n",
       "      <td>Eccentric scientist Rintarou Okabe has a never...</td>\n",
       "      <td>https://myanimelist.net/anime/9253/Steins_Gate</td>\n",
       "    </tr>\n",
       "    <tr>\n",
       "      <th>5</th>\n",
       "      <td>5</td>\n",
       "      <td>Gintama°</td>\n",
       "      <td>9.07</td>\n",
       "      <td>['Action', 'Comedy', 'Sci-Fi', 'Gag Humor', 'H...</td>\n",
       "      <td>Gintoki, Shinpachi, and Kagura return as the f...</td>\n",
       "      <td>https://myanimelist.net/anime/28977/Gintama°</td>\n",
       "    </tr>\n",
       "  </tbody>\n",
       "</table>\n",
       "</div>"
      ],
      "text/plain": [
       "   Rank                                               Name  Score  \\\n",
       "1     1  Shingeki no Kyojin: The Final Season - Kankets...   9.15   \n",
       "2     2                   Fullmetal Alchemist: Brotherhood   9.11   \n",
       "3     3                          Bleach: Sennen Kessen-hen   9.09   \n",
       "4     4                                        Steins;Gate   9.08   \n",
       "5     5                                           Gintama°   9.07   \n",
       "\n",
       "                                              Genres  \\\n",
       "1  ['Action', 'Drama', 'Suspense', 'Gore', 'Milit...   \n",
       "2  ['Action', 'Adventure', 'Drama', 'Fantasy', 'M...   \n",
       "3      ['Action', 'Adventure', 'Fantasy', 'Shounen']   \n",
       "4  ['Drama', 'Sci-Fi', 'Suspense', 'Psychological...   \n",
       "5  ['Action', 'Comedy', 'Sci-Fi', 'Gag Humor', 'H...   \n",
       "\n",
       "                                            Synopsis  \\\n",
       "1              The conclusion to Shingeki no Kyojin.   \n",
       "2  After a horrific alchemy experiment goes wrong...   \n",
       "3  Substitute Soul Reaper Ichigo Kurosaki spends ...   \n",
       "4  Eccentric scientist Rintarou Okabe has a never...   \n",
       "5  Gintoki, Shinpachi, and Kagura return as the f...   \n",
       "\n",
       "                                                Link  \n",
       "1  https://myanimelist.net/anime/51535/Shingeki_n...  \n",
       "2  https://myanimelist.net/anime/5114/Fullmetal_A...  \n",
       "3  https://myanimelist.net/anime/41467/Bleach__Se...  \n",
       "4     https://myanimelist.net/anime/9253/Steins_Gate  \n",
       "5       https://myanimelist.net/anime/28977/Gintama°  "
      ]
     },
     "execution_count": 33,
     "metadata": {},
     "output_type": "execute_result"
    }
   ],
   "source": [
    "df.head()"
   ]
  },
  {
   "cell_type": "code",
   "execution_count": 34,
   "metadata": {},
   "outputs": [],
   "source": [
    "df['Genres'] = df.Genres.apply(lambda x: x[1:-1].split(','))"
   ]
  },
  {
   "cell_type": "code",
   "execution_count": 41,
   "metadata": {},
   "outputs": [],
   "source": [
    "df = df.explode('Genres')"
   ]
  },
  {
   "cell_type": "code",
   "execution_count": 47,
   "metadata": {},
   "outputs": [],
   "source": [
    "df = df.Genres.apply(lambda x: x.replace(\"'\", ''))"
   ]
  },
  {
   "cell_type": "code",
   "execution_count": 48,
   "metadata": {},
   "outputs": [
    {
     "data": {
      "text/plain": [
       "1       Action\n",
       "1        Drama\n",
       "1     Suspense\n",
       "1         Gore\n",
       "1     Military\n",
       "Name: Genres, dtype: object"
      ]
     },
     "execution_count": 48,
     "metadata": {},
     "output_type": "execute_result"
    }
   ],
   "source": [
    "df.head()"
   ]
  }
 ],
 "metadata": {
  "kernelspec": {
   "display_name": "Python 3.11.1 64-bit",
   "language": "python",
   "name": "python3"
  },
  "language_info": {
   "codemirror_mode": {
    "name": "ipython",
    "version": 3
   },
   "file_extension": ".py",
   "mimetype": "text/x-python",
   "name": "python",
   "nbconvert_exporter": "python",
   "pygments_lexer": "ipython3",
   "version": "3.11.1"
  },
  "orig_nbformat": 4,
  "vscode": {
   "interpreter": {
    "hash": "aee8b7b246df8f9039afb4144a1f6fd8d2ca17a180786b69acc140d282b71a49"
   }
  }
 },
 "nbformat": 4,
 "nbformat_minor": 2
}
